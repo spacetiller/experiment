{
 "cells": [
  {
   "cell_type": "code",
   "execution_count": 18,
   "id": "e100b0be-f22b-4a90-8daf-d1847ec8fe43",
   "metadata": {},
   "outputs": [
    {
     "name": "stdout",
     "output_type": "stream",
     "text": [
      "Hello，ChatGPT\n"
     ]
    }
   ],
   "source": [
    "print(\"Hello，ChatGPT\")"
   ]
  },
  {
   "cell_type": "code",
   "execution_count": 8,
   "id": "b8a01185-1a37-435c-80c1-842c036bc353",
   "metadata": {
    "scrolled": true
   },
   "outputs": [],
   "source": [
    "# pip install python-dotenv\n",
    "from dotenv import load_dotenv, find_dotenv\n",
    "_=load_dotenv(find_dotenv())"
   ]
  },
  {
   "cell_type": "code",
   "execution_count": 16,
   "id": "ec167af5-7d38-4ee3-826b-0672b6eff7ee",
   "metadata": {},
   "outputs": [],
   "source": [
    "import openai\n",
    "from openai import OpenAI\n",
    "import os\n",
    "\n",
    "# defaults to getting the key using os.environ.get(\"OPENAI_API_KEY\")\n",
    "# if you saved the key under a different environment variable name, you can do something like:\n",
    "# client = OpenAI(\n",
    "#   api_key=os.environ.get(\"CUSTOM_ENV_NAME\"),\n",
    "# )\n",
    "client = OpenAI()\n",
    "\n",
    "# 基于 prompt 生成文本\n",
    "def get_completion(prompt, model=\"gpt-3.5-turbo\"):\n",
    "    messages = [{\"role\": \"user\", \"content\": prompt}]\n",
    "    response = client.chat.completions.create(\n",
    "        model=model,\n",
    "        messages=messages,\n",
    "        temperature=0,  # 模型输出的随机性，0 表示随机性最小\n",
    "    )\n",
    "    return response.choices[0].message.content\n",
    "\n"
   ]
  },
  {
   "cell_type": "code",
   "execution_count": 17,
   "id": "cf96748f-ba83-4eba-ab61-825fe94a8b4d",
   "metadata": {},
   "outputs": [
    {
     "name": "stdout",
     "output_type": "stream",
     "text": [
      "首先，谢谢你对我分享这个问题。结婚是一个重要的决定，需要考虑很多因素。让我先了解一下你的想法和感受，你对结婚有什么期待和担忧呢？结婚对你来说意味着什么？\n"
     ]
    }
   ],
   "source": [
    "# 任务描述\n",
    "instruction = \"\"\"\n",
    "你的任务是陪人聊天，擅长使用心理学原理及性格分析为对方解决问题。\n",
    "\"\"\"\n",
    "\n",
    "# 用户输入\n",
    "input_text = \"\"\"\n",
    "我啥时候能结婚呢？\n",
    "\"\"\"\n",
    "\n",
    "# 这是系统预置的 prompt。魔法咒语的秘密都在这里\n",
    "prompt = f\"\"\"\n",
    "{instruction}\n",
    "\n",
    "用户输入：\n",
    "{input_text}\n",
    "\"\"\"\n",
    "\n",
    "response = get_completion(prompt)\n",
    "print(response)"
   ]
  },
  {
   "cell_type": "code",
   "execution_count": null,
   "id": "9d8eeeac-e7d0-4e8d-a1d5-c01983e086ae",
   "metadata": {},
   "outputs": [],
   "source": []
  }
 ],
 "metadata": {
  "kernelspec": {
   "display_name": "Python 3 (ipykernel)",
   "language": "python",
   "name": "python3"
  },
  "language_info": {
   "codemirror_mode": {
    "name": "ipython",
    "version": 3
   },
   "file_extension": ".py",
   "mimetype": "text/x-python",
   "name": "python",
   "nbconvert_exporter": "python",
   "pygments_lexer": "ipython3",
   "version": "3.9.13"
  }
 },
 "nbformat": 4,
 "nbformat_minor": 5
}
